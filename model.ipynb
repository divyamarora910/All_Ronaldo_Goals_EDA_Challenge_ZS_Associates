{
 "cells": [
  {
   "cell_type": "code",
   "execution_count": 1,
   "metadata": {
    "collapsed": true
   },
   "outputs": [],
   "source": [
    "import pandas as pd\n",
    "import numpy as np\n",
    "import pandas_profiling"
   ]
  },
  {
   "cell_type": "code",
   "execution_count": 20,
   "metadata": {
    "collapsed": true
   },
   "outputs": [],
   "source": [
    "import warnings\n",
    "warnings.filterwarnings('ignore')"
   ]
  },
  {
   "cell_type": "code",
   "execution_count": 50,
   "metadata": {
    "collapsed": true
   },
   "outputs": [],
   "source": [
    "import math"
   ]
  },
  {
   "cell_type": "code",
   "execution_count": 143,
   "metadata": {
    "collapsed": true
   },
   "outputs": [],
   "source": [
    "from sklearn.ensemble import RandomForestClassifier\n",
    "from sklearn.metrics import mean_absolute_error\n",
    "from sklearn.model_selection import StratifiedKFold\n",
    "from sklearn import metrics"
   ]
  },
  {
   "cell_type": "code",
   "execution_count": 2,
   "metadata": {
    "collapsed": true
   },
   "outputs": [],
   "source": [
    "pd.set_option(\"display.max_rows\",50)\n",
    "pd.set_option(\"display.max_columns\",30)"
   ]
  },
  {
   "cell_type": "code",
   "execution_count": 3,
   "metadata": {
    "collapsed": true
   },
   "outputs": [],
   "source": [
    "dataset=pd.read_csv('data.csv')\n",
    "submission=pd.read_csv('sample_submission.csv')"
   ]
  },
  {
   "cell_type": "code",
   "execution_count": 4,
   "metadata": {
    "collapsed": false
   },
   "outputs": [
    {
     "data": {
      "text/plain": [
       "(30697, 28)"
      ]
     },
     "execution_count": 4,
     "metadata": {},
     "output_type": "execute_result"
    }
   ],
   "source": [
    "dataset.shape"
   ]
  },
  {
   "cell_type": "code",
   "execution_count": 5,
   "metadata": {
    "collapsed": true
   },
   "outputs": [],
   "source": [
    "dataset['shot_id_number']=range(1,len(dataset['shot_id_number'])+1)"
   ]
  },
  {
   "cell_type": "code",
   "execution_count": 6,
   "metadata": {
    "collapsed": false
   },
   "outputs": [
    {
     "data": {
      "text/html": [
       "<div>\n",
       "<style scoped>\n",
       "    .dataframe tbody tr th:only-of-type {\n",
       "        vertical-align: middle;\n",
       "    }\n",
       "\n",
       "    .dataframe tbody tr th {\n",
       "        vertical-align: top;\n",
       "    }\n",
       "\n",
       "    .dataframe thead th {\n",
       "        text-align: right;\n",
       "    }\n",
       "</style>\n",
       "<table border=\"1\" class=\"dataframe\">\n",
       "  <thead>\n",
       "    <tr style=\"text-align: right;\">\n",
       "      <th></th>\n",
       "      <th>shot_id_number</th>\n",
       "      <th>is_goal</th>\n",
       "    </tr>\n",
       "  </thead>\n",
       "  <tbody>\n",
       "    <tr>\n",
       "      <th>0</th>\n",
       "      <td>1</td>\n",
       "      <td>0.1</td>\n",
       "    </tr>\n",
       "    <tr>\n",
       "      <th>1</th>\n",
       "      <td>8</td>\n",
       "      <td>0.1</td>\n",
       "    </tr>\n",
       "    <tr>\n",
       "      <th>2</th>\n",
       "      <td>17</td>\n",
       "      <td>0.1</td>\n",
       "    </tr>\n",
       "    <tr>\n",
       "      <th>3</th>\n",
       "      <td>20</td>\n",
       "      <td>0.1</td>\n",
       "    </tr>\n",
       "    <tr>\n",
       "      <th>4</th>\n",
       "      <td>33</td>\n",
       "      <td>0.1</td>\n",
       "    </tr>\n",
       "  </tbody>\n",
       "</table>\n",
       "</div>"
      ],
      "text/plain": [
       "   shot_id_number  is_goal\n",
       "0               1      0.1\n",
       "1               8      0.1\n",
       "2              17      0.1\n",
       "3              20      0.1\n",
       "4              33      0.1"
      ]
     },
     "execution_count": 6,
     "metadata": {},
     "output_type": "execute_result"
    }
   ],
   "source": [
    "submission.head()"
   ]
  },
  {
   "cell_type": "code",
   "execution_count": 7,
   "metadata": {
    "collapsed": true
   },
   "outputs": [],
   "source": [
    "output_label='is_goal'"
   ]
  },
  {
   "cell_type": "code",
   "execution_count": 9,
   "metadata": {
    "collapsed": false
   },
   "outputs": [
    {
     "data": {
      "text/plain": [
       "Unnamed: 0                   0\n",
       "match_event_id            1563\n",
       "location_x                1461\n",
       "location_y                1540\n",
       "remaining_min             1562\n",
       "power_of_shot             1486\n",
       "knockout_match            1517\n",
       "game_season               5862\n",
       "remaining_sec             1594\n",
       "distance_of_shot          1567\n",
       "is_goal                   6268\n",
       "area_of_shot              1502\n",
       "shot_basics               1575\n",
       "range_of_shot             1564\n",
       "team_name                 1535\n",
       "date_of_game              1550\n",
       "home/away                 1497\n",
       "shot_id_number               0\n",
       "lat/lng                   1565\n",
       "type_of_shot             15280\n",
       "type_of_combined_shot    15417\n",
       "match_id                     0\n",
       "team_id                      0\n",
       "remaining_min.1           1535\n",
       "power_of_shot.1           1539\n",
       "knockout_match.1          1493\n",
       "remaining_sec.1           1539\n",
       "distance_of_shot.1        1568\n",
       "dtype: int64"
      ]
     },
     "execution_count": 9,
     "metadata": {},
     "output_type": "execute_result"
    }
   ],
   "source": [
    "dataset.isnull().sum()"
   ]
  },
  {
   "cell_type": "code",
   "execution_count": 12,
   "metadata": {
    "collapsed": true
   },
   "outputs": [],
   "source": [
    "del dataset['Unnamed: 0']"
   ]
  },
  {
   "cell_type": "code",
   "execution_count": 17,
   "metadata": {
    "collapsed": true
   },
   "outputs": [],
   "source": [
    "def rank_transformation_on_match_event_in_match_id(data):\n",
    "    xm=data.groupby(['match_id'])\n",
    "    ut = list(xm.groups.keys())\n",
    "    finals_club=pd.DataFrame()\n",
    "    for i in ut:\n",
    "        df=xm.get_group(i)\n",
    "        rank_length=len(df)\n",
    "        df['match_event_id']=range(1,rank_length+1)\n",
    "        finals_club=pd.concat([finals_club,df])\n",
    "    return finals_club"
   ]
  },
  {
   "cell_type": "code",
   "execution_count": 18,
   "metadata": {
    "collapsed": false
   },
   "outputs": [
    {
     "data": {
      "text/plain": [
       "match_event_id            1563\n",
       "location_x                1461\n",
       "location_y                1540\n",
       "remaining_min             1562\n",
       "power_of_shot             1486\n",
       "knockout_match            1517\n",
       "game_season               5862\n",
       "remaining_sec             1594\n",
       "distance_of_shot          1567\n",
       "is_goal                   6268\n",
       "area_of_shot              1502\n",
       "shot_basics               1575\n",
       "range_of_shot             1564\n",
       "team_name                 1535\n",
       "date_of_game              1550\n",
       "home/away                 1497\n",
       "shot_id_number               0\n",
       "lat/lng                   1565\n",
       "type_of_shot             15280\n",
       "type_of_combined_shot    15417\n",
       "match_id                     0\n",
       "team_id                      0\n",
       "remaining_min.1           1535\n",
       "power_of_shot.1           1539\n",
       "knockout_match.1          1493\n",
       "remaining_sec.1           1539\n",
       "distance_of_shot.1        1568\n",
       "dtype: int64"
      ]
     },
     "execution_count": 18,
     "metadata": {},
     "output_type": "execute_result"
    }
   ],
   "source": [
    "dataset.isnull().sum()"
   ]
  },
  {
   "cell_type": "code",
   "execution_count": 19,
   "metadata": {
    "collapsed": false
   },
   "outputs": [
    {
     "name": "stderr",
     "output_type": "stream",
     "text": [
      "/home/divyam.arora/anaconda3/lib/python3.6/site-packages/ipykernel_launcher.py:8: SettingWithCopyWarning: \n",
      "A value is trying to be set on a copy of a slice from a DataFrame.\n",
      "Try using .loc[row_indexer,col_indexer] = value instead\n",
      "\n",
      "See the caveats in the documentation: http://pandas.pydata.org/pandas-docs/stable/indexing.html#indexing-view-versus-copy\n",
      "  \n"
     ]
    }
   ],
   "source": [
    "dataset=rank_transformation_on_match_event_in_match_id(dataset)"
   ]
  },
  {
   "cell_type": "code",
   "execution_count": 24,
   "metadata": {
    "collapsed": true
   },
   "outputs": [],
   "source": [
    "def change_remain(x,y):\n",
    "    if x==y:\n",
    "        return x\n",
    "    elif (int(x)==x)& (x!=-99.0):\n",
    "        return x\n",
    "    elif (int(y)==y) & (y!=-99.0):\n",
    "        return y\n",
    "    else:\n",
    "        return x"
   ]
  },
  {
   "cell_type": "code",
   "execution_count": 27,
   "metadata": {
    "collapsed": true
   },
   "outputs": [],
   "source": [
    "dataset['remaining_min.1']=dataset['remaining_min.1'].fillna(-99.0)\n",
    "dataset['remaining_min']=dataset['remaining_min'].fillna(-99.0)\n",
    "dataset['remaining_min_f']=dataset.apply(lambda x: change_remain(x['remaining_min'],x['remaining_min.1']),axis=1)"
   ]
  },
  {
   "cell_type": "code",
   "execution_count": 30,
   "metadata": {
    "collapsed": true
   },
   "outputs": [],
   "source": [
    "dataset['remaining_sec.1']=dataset['remaining_sec.1'].fillna(-99.0)\n",
    "dataset['remaining_sec']=dataset['remaining_sec'].fillna(-99.0)\n",
    "dataset['remaining_sec_f']=dataset.apply(lambda x: change_remain(x['remaining_sec'],x['remaining_sec.1']),axis=1)"
   ]
  },
  {
   "cell_type": "code",
   "execution_count": 31,
   "metadata": {
    "collapsed": true
   },
   "outputs": [],
   "source": [
    "dataset['power_of_shot.1']=dataset['power_of_shot.1'].fillna(-99.0)\n",
    "dataset['power_of_shot']=dataset['power_of_shot'].fillna(-99.0)\n",
    "dataset['power_of_shot_f']=dataset.apply(lambda x: change_remain(x['power_of_shot'],x['power_of_shot.1']),axis=1)"
   ]
  },
  {
   "cell_type": "code",
   "execution_count": 32,
   "metadata": {
    "collapsed": true
   },
   "outputs": [],
   "source": [
    "dataset['knockout_match.1']=dataset['knockout_match.1'].fillna(-99.0)\n",
    "dataset['knockout_match']=dataset['knockout_match'].fillna(-99.0)\n",
    "dataset['knockout_match_f']=dataset.apply(lambda x: change_remain(x['knockout_match'],x['knockout_match.1']),axis=1)"
   ]
  },
  {
   "cell_type": "code",
   "execution_count": 33,
   "metadata": {
    "collapsed": true
   },
   "outputs": [],
   "source": [
    "dataset['distance_of_shot.1']=dataset['distance_of_shot.1'].fillna(-99.0)\n",
    "dataset['distance_of_shot']=dataset['distance_of_shot'].fillna(-99.0)\n",
    "dataset['distance_of_shot_f']=dataset.apply(lambda x: change_remain(x['distance_of_shot'],x['distance_of_shot.1']),axis=1)"
   ]
  },
  {
   "cell_type": "code",
   "execution_count": 34,
   "metadata": {
    "collapsed": true
   },
   "outputs": [],
   "source": [
    "def fill_data_with_corresponding_values(df,a1,b1):\n",
    "    fill_table=pd.DataFrame(columns=[a1,b1+'_fill'])\n",
    "    for x in df[a1].unique().tolist():\n",
    "        if len(df.loc[(df[a1]==x)&(~df[b1].isnull()),b1])!=0:\n",
    "            x_value=df.loc[(df[a1]==x)&(~df[b1].isnull()),b1].values[0]\n",
    "        else:\n",
    "            x_value=np.nan\n",
    "        df2 = pd.DataFrame({a1:[x], b1+'_fill':[x_value]}) \n",
    "        fill_table=fill_table.append(df2)\n",
    "    fill_table[a1]=fill_table[a1].astype(int).astype(str)\n",
    "    df[a1]=df[a1].astype(int).astype(str)\n",
    "    return pd.merge(df,fill_table,how='left',on=a1)    "
   ]
  },
  {
   "cell_type": "code",
   "execution_count": 35,
   "metadata": {
    "collapsed": true
   },
   "outputs": [],
   "source": [
    "dataset=fill_data_with_corresponding_values(dataset,'match_id','date_of_game')"
   ]
  },
  {
   "cell_type": "code",
   "execution_count": 38,
   "metadata": {
    "collapsed": false
   },
   "outputs": [
    {
     "data": {
      "text/plain": [
       "1"
      ]
     },
     "execution_count": 38,
     "metadata": {},
     "output_type": "execute_result"
    }
   ],
   "source": [
    "dataset.date_of_game_fill.isnull().sum()"
   ]
  },
  {
   "cell_type": "code",
   "execution_count": 41,
   "metadata": {
    "collapsed": true
   },
   "outputs": [],
   "source": [
    "dataset['game_season_f']=pd.to_datetime(dataset['date_of_game_fill']).dt.year"
   ]
  },
  {
   "cell_type": "code",
   "execution_count": 44,
   "metadata": {
    "collapsed": true
   },
   "outputs": [],
   "source": [
    "mini=pd.to_datetime(dataset['date_of_game_fill']).min()"
   ]
  },
  {
   "cell_type": "code",
   "execution_count": 45,
   "metadata": {
    "collapsed": true
   },
   "outputs": [],
   "source": [
    "def change_to_int(x):\n",
    "    try:\n",
    "        return int(x)\n",
    "    except:\n",
    "        return 0"
   ]
  },
  {
   "cell_type": "code",
   "execution_count": 47,
   "metadata": {
    "collapsed": true
   },
   "outputs": [],
   "source": [
    "dataset['date_of_game_f']=(pd.to_datetime(dataset['date_of_game_fill'])-mini).apply(lambda x: change_to_int(str(x).split()[0]))"
   ]
  },
  {
   "cell_type": "code",
   "execution_count": 51,
   "metadata": {
    "collapsed": true
   },
   "outputs": [],
   "source": [
    "def fill_range(distance,range_of_shot):\n",
    "    if (range_of_shot=='empty'):\n",
    "        if (distance==-99.0):\n",
    "            return np.nan\n",
    "        elif (distance<=28.0)&(distance>0.0):\n",
    "            return 'Less Than 8 ft.'\n",
    "        elif (distance<=36.0):\n",
    "            return '8-16 ft.'\n",
    "        elif (distance<=43.0):\n",
    "            return '16-24 ft.'\n",
    "        elif (distance<=65.0):\n",
    "            return '24+ ft.'\n",
    "        elif (distance>65.0):\n",
    "            return 'Back Court Shot'\n",
    "    else:\n",
    "        return range_of_shot"
   ]
  },
  {
   "cell_type": "code",
   "execution_count": 53,
   "metadata": {
    "collapsed": true
   },
   "outputs": [],
   "source": [
    "dataset['range_of_shot']=dataset['range_of_shot'].fillna('empty')\n",
    "dataset['range_of_shot_fill']=dataset.apply(lambda x: fill_range(x['distance_of_shot_f'],x['range_of_shot']),axis=1)"
   ]
  },
  {
   "cell_type": "code",
   "execution_count": 54,
   "metadata": {
    "collapsed": false
   },
   "outputs": [
    {
     "data": {
      "text/plain": [
       "15280"
      ]
     },
     "execution_count": 54,
     "metadata": {},
     "output_type": "execute_result"
    }
   ],
   "source": [
    "dataset['type_of_shot'].isnull().sum()"
   ]
  },
  {
   "cell_type": "code",
   "execution_count": 55,
   "metadata": {
    "collapsed": false
   },
   "outputs": [
    {
     "data": {
      "text/plain": [
       "15417"
      ]
     },
     "execution_count": 55,
     "metadata": {},
     "output_type": "execute_result"
    }
   ],
   "source": [
    "dataset['type_of_combined_shot'].isnull().sum()"
   ]
  },
  {
   "cell_type": "code",
   "execution_count": 56,
   "metadata": {
    "collapsed": true
   },
   "outputs": [],
   "source": [
    "dataset['type_of_shot_cfill']=dataset['type_of_shot'].apply(str).apply(lambda x: 'empty' if (x=='nan') else 'c_'+x)\n",
    "dataset['type_of_shot_fill']=dataset['type_of_shot'].fillna('empty')"
   ]
  },
  {
   "cell_type": "code",
   "execution_count": 57,
   "metadata": {
    "collapsed": true
   },
   "outputs": [],
   "source": [
    "dataset['type_of_combined_shot_fill']=dataset['type_of_combined_shot'].fillna('empty')"
   ]
  },
  {
   "cell_type": "code",
   "execution_count": 59,
   "metadata": {
    "collapsed": true
   },
   "outputs": [],
   "source": [
    "dataset['shot_type_comb']=np.where(dataset['type_of_combined_shot_fill']=='empty',dataset['type_of_shot_fill'],dataset['type_of_combined_shot_fill'])"
   ]
  },
  {
   "cell_type": "code",
   "execution_count": 60,
   "metadata": {
    "collapsed": true
   },
   "outputs": [],
   "source": [
    "dataset['shot_type_diff']=np.where(dataset['type_of_combined_shot_fill']=='empty',dataset['type_of_shot_cfill'],dataset['type_of_combined_shot_fill'])"
   ]
  },
  {
   "cell_type": "code",
   "execution_count": 61,
   "metadata": {
    "collapsed": true
   },
   "outputs": [],
   "source": [
    "train=dataset[~dataset[output_label].isnull()]\n",
    "test=dataset[dataset[output_label].isnull()]"
   ]
  },
  {
   "cell_type": "code",
   "execution_count": 63,
   "metadata": {
    "collapsed": false
   },
   "outputs": [
    {
     "data": {
      "text/plain": [
       "0.0    0.554669\n",
       "1.0    0.445331\n",
       "Name: is_goal, dtype: float64"
      ]
     },
     "execution_count": 63,
     "metadata": {},
     "output_type": "execute_result"
    }
   ],
   "source": [
    "train['is_goal'].value_counts(dropna=False,normalize=True)"
   ]
  },
  {
   "cell_type": "code",
   "execution_count": 64,
   "metadata": {
    "collapsed": false
   },
   "outputs": [
    {
     "data": {
      "text/plain": [
       "(24429, 41)"
      ]
     },
     "execution_count": 64,
     "metadata": {},
     "output_type": "execute_result"
    }
   ],
   "source": [
    "train.shape"
   ]
  },
  {
   "cell_type": "code",
   "execution_count": 65,
   "metadata": {
    "collapsed": false
   },
   "outputs": [
    {
     "data": {
      "text/plain": [
       "(6268, 41)"
      ]
     },
     "execution_count": 65,
     "metadata": {},
     "output_type": "execute_result"
    }
   ],
   "source": [
    "test.shape"
   ]
  },
  {
   "cell_type": "code",
   "execution_count": 66,
   "metadata": {
    "collapsed": true
   },
   "outputs": [],
   "source": [
    "lam=train.groupby(['shot_basics','area_of_shot'],as_index=False).agg({'location_x':{'min','max'},'location_y':{'min','max'}})\n",
    "lam.columns=['shot_basics','area_of_shot','xmax','xmin','ymax','ymin']"
   ]
  },
  {
   "cell_type": "code",
   "execution_count": 68,
   "metadata": {
    "collapsed": true
   },
   "outputs": [],
   "source": [
    "def change_area_of_shot(data,table):\n",
    "    New_Data=pd.DataFrame(columns=data.columns.tolist())\n",
    "    for index,row in data.iterrows():\n",
    "        if (row['area_of_shot']!='empty'):\n",
    "            New_Data=pd.concat([New_Data,pd.DataFrame(row).T],axis=0)\n",
    "        else:\n",
    "            if (row['shot_basics']=='empty'):\n",
    "                New_Data=pd.concat([New_Data,pd.DataFrame(row).T],axis=0)\n",
    "            else:\n",
    "                space=table[table['shot_basics']==row['shot_basics']]\n",
    "                flag=0\n",
    "                for index_space,row_space in space.iterrows():\n",
    "                    if ((row['location_x']<=row_space['xmax'])& (row['location_x']>=row_space['xmin']) & (row['location_y']<=row_space['ymax'])& (row['location_y']>=row_space['ymin'])):\n",
    "                        row['area_of_shot']=row_space['area_of_shot']\n",
    "                        New_Data=pd.concat([New_Data,pd.DataFrame(row).T],axis=0)\n",
    "                        flag=1\n",
    "                        break\n",
    "                if flag==0:\n",
    "                    New_Data=pd.concat([New_Data,pd.DataFrame(row).T],axis=0)    \n",
    "    return New_Data"
   ]
  },
  {
   "cell_type": "code",
   "execution_count": 69,
   "metadata": {
    "collapsed": true
   },
   "outputs": [],
   "source": [
    "dataset['area_of_shot']=dataset['area_of_shot'].fillna('empty')\n",
    "dataset['shot_basics']=dataset['shot_basics'].fillna('empty')"
   ]
  },
  {
   "cell_type": "code",
   "execution_count": 70,
   "metadata": {
    "collapsed": true
   },
   "outputs": [],
   "source": [
    "dataset=change_area_of_shot(dataset,lam)"
   ]
  },
  {
   "cell_type": "code",
   "execution_count": 71,
   "metadata": {
    "collapsed": true
   },
   "outputs": [],
   "source": [
    "lad=train.groupby(['area_of_shot','shot_basics'],as_index=False).agg({'location_x':{'min','max'},'location_y':{'min','max'}})\n",
    "lad.columns=['area_of_shot','shot_basics','xmax','xmin','ymax','ymin']"
   ]
  },
  {
   "cell_type": "code",
   "execution_count": 72,
   "metadata": {
    "collapsed": true
   },
   "outputs": [],
   "source": [
    "nlad=lad[(lad['area_of_shot']!='empty')&(lad['shot_basics']!='empty')]"
   ]
  },
  {
   "cell_type": "code",
   "execution_count": 74,
   "metadata": {
    "collapsed": true
   },
   "outputs": [],
   "source": [
    "def change_shot_basics(data,table):\n",
    "    New_Data=pd.DataFrame(columns=data.columns.tolist())\n",
    "    for index,row in data.iterrows():\n",
    "        if (row['shot_basics']!='empty'):\n",
    "            New_Data=pd.concat([New_Data,pd.DataFrame(row).T],axis=0)\n",
    "        else:\n",
    "            if (row['area_of_shot']=='empty'):\n",
    "                New_Data=pd.concat([New_Data,pd.DataFrame(row).T],axis=0)\n",
    "            else:\n",
    "                space=table[table['area_of_shot']==row['area_of_shot']]\n",
    "                flag=0\n",
    "                for index_space,row_space in space.iterrows():\n",
    "                    if ((row['location_x']<=row_space['xmax'])& (row['location_x']>=row_space['xmin']) & (row['location_y']<=row_space['ymax'])& (row['location_y']>=row_space['ymin'])):\n",
    "                        row['shot_basics']=row_space['shot_basics']\n",
    "                        New_Data=pd.concat([New_Data,pd.DataFrame(row).T],axis=0)\n",
    "                        flag=1\n",
    "                        break\n",
    "                if flag==0:\n",
    "                    New_Data=pd.concat([New_Data,pd.DataFrame(row).T],axis=0)    \n",
    "    return New_Data"
   ]
  },
  {
   "cell_type": "code",
   "execution_count": 75,
   "metadata": {
    "collapsed": true
   },
   "outputs": [],
   "source": [
    "dataset=change_shot_basics(dataset,nlad)"
   ]
  },
  {
   "cell_type": "code",
   "execution_count": 76,
   "metadata": {
    "collapsed": true
   },
   "outputs": [],
   "source": [
    "loc_x=dataset[~dataset.location_x.isnull()]\n",
    "loc_x['location_x']=loc_x['location_x'].astype(int)\n",
    "x_table=loc_x.groupby(['shot_basics','area_of_shot'],as_index=False).location_x.median()\n",
    "x_table.columns=['shot_basics', 'area_of_shot', 'fill_x']\n",
    "dataset=pd.merge(dataset,x_table,how='left',on=['shot_basics','area_of_shot'])\n",
    "dataset.loc[dataset.location_x.isnull(),'location_x']=dataset.loc[dataset.location_x.isnull(),'fill_x']"
   ]
  },
  {
   "cell_type": "code",
   "execution_count": 77,
   "metadata": {
    "collapsed": true
   },
   "outputs": [],
   "source": [
    "loc_y=dataset[~dataset.location_y.isnull()]\n",
    "loc_y['location_y']=loc_y['location_y'].astype(int)\n",
    "y_table=loc_y.groupby(['shot_basics','area_of_shot'],as_index=False).location_y.median()\n",
    "y_table.columns=['shot_basics', 'area_of_shot', 'fill_y']\n",
    "dataset=pd.merge(dataset,y_table,how='left',on=['shot_basics','area_of_shot'])\n",
    "dataset.loc[dataset.location_y.isnull(),'location_y']=dataset.loc[dataset.location_y.isnull(),'fill_y']"
   ]
  },
  {
   "cell_type": "code",
   "execution_count": 95,
   "metadata": {
    "collapsed": true
   },
   "outputs": [],
   "source": [
    "dataset['location_x']=dataset['location_x'].astype(int)\n",
    "dataset['location_y']=dataset['location_y'].astype(int)"
   ]
  },
  {
   "cell_type": "code",
   "execution_count": 96,
   "metadata": {
    "collapsed": true
   },
   "outputs": [],
   "source": [
    "def create_angle(x,y):\n",
    "    if x==0:\n",
    "        return 0\n",
    "    return y/x"
   ]
  },
  {
   "cell_type": "code",
   "execution_count": 97,
   "metadata": {
    "collapsed": true
   },
   "outputs": [],
   "source": [
    "dataset['shot_angle']=dataset.apply(lambda x:create_angle(x['location_x'],x['location_y']),axis=1)"
   ]
  },
  {
   "cell_type": "code",
   "execution_count": 100,
   "metadata": {
    "collapsed": true
   },
   "outputs": [],
   "source": [
    "dataset['shot_distance']=np.sqrt(np.power(dataset['location_x'],2)+np.power(dataset['location_y'],2))"
   ]
  },
  {
   "cell_type": "code",
   "execution_count": 101,
   "metadata": {
    "collapsed": true
   },
   "outputs": [],
   "source": [
    "dataset.to_csv('preprocessed_dataset.csv')"
   ]
  },
  {
   "cell_type": "code",
   "execution_count": 371,
   "metadata": {
    "collapsed": true
   },
   "outputs": [],
   "source": [
    "cols=['match_event_id','location_x','location_y','is_goal','area_of_shot','shot_basics','shot_id_number',\n",
    "      'match_id','remaining_min_f','remaining_sec_f','power_of_shot_f','knockout_match_f',\n",
    "      'distance_of_shot_f','game_season_f','date_of_game_f','range_of_shot_fill',\n",
    "      'shot_type_comb','shot_type_diff','shot_angle','shot_distance','range_of_shot']"
   ]
  },
  {
   "cell_type": "code",
   "execution_count": 372,
   "metadata": {
    "collapsed": true
   },
   "outputs": [],
   "source": [
    "main_data=dataset[cols]"
   ]
  },
  {
   "cell_type": "code",
   "execution_count": 613,
   "metadata": {
    "collapsed": true
   },
   "outputs": [],
   "source": [
    "num=['location_x','location_y',#,'remaining_min_f',\n",
    "     #'remaining_sec_f',\n",
    "     'power_of_shot_f',#'knockout_match_f',\n",
    "     'distance_of_shot_f'#'game_season_f'\n",
    "     ,'date_of_game_f'\n",
    "     ,'shot_angle','shot_distance']#,'match_event_id']\n",
    "cat=['match_event_id','area_of_shot','shot_basics','range_of_shot','shot_type_comb','shot_type_diff','match_id']\n",
    "id_col='shot_id_number'\n",
    "output='is_goal'"
   ]
  },
  {
   "cell_type": "markdown",
   "metadata": {},
   "source": [
    "## split"
   ]
  },
  {
   "cell_type": "code",
   "execution_count": 444,
   "metadata": {
    "collapsed": true
   },
   "outputs": [],
   "source": [
    "main_data['range_of_shot']=main_data['range_of_shot'].fillna('empty')"
   ]
  },
  {
   "cell_type": "code",
   "execution_count": 445,
   "metadata": {
    "collapsed": true
   },
   "outputs": [],
   "source": [
    "main_data['game_season_f']=main_data['game_season_f'].fillna(0)"
   ]
  },
  {
   "cell_type": "code",
   "execution_count": 377,
   "metadata": {
    "collapsed": true
   },
   "outputs": [],
   "source": [
    "main_data['shot_id_number']=main_data['shot_id_number'].astype(int)\n",
    "int_cols=['location_x','location_y','remaining_min_f','remaining_sec_f','power_of_shot_f','knockout_match_f',\n",
    "      'distance_of_shot_f','game_season_f','date_of_game_f','match_event_id']\n",
    "for x in int_cols:\n",
    "    main_data[x]=main_data[x].astype(int)"
   ]
  },
  {
   "cell_type": "code",
   "execution_count": 378,
   "metadata": {
    "collapsed": true
   },
   "outputs": [],
   "source": [
    "train=main_data[~main_data[output_label].isnull()]\n",
    "test=main_data[main_data[output_label].isnull()]"
   ]
  },
  {
   "cell_type": "code",
   "execution_count": 379,
   "metadata": {
    "collapsed": true
   },
   "outputs": [],
   "source": [
    "train['is_goal']=train['is_goal'].astype(int)"
   ]
  },
  {
   "cell_type": "code",
   "execution_count": 566,
   "metadata": {
    "collapsed": true
   },
   "outputs": [],
   "source": [
    "train['two_level']=train['shot_basics']+'_'+train['area_of_shot']\n",
    "train['two_level_enc']=train.two_level.map(train.groupby(['two_level']).is_goal.mean())\n",
    "test['two_level']=test['shot_basics']+'_'+test['area_of_shot']\n",
    "test['two_level_enc']=test['two_level'].map(train.groupby(['two_level']).is_goal.mean())"
   ]
  },
  {
   "cell_type": "code",
   "execution_count": 579,
   "metadata": {
    "collapsed": true
   },
   "outputs": [],
   "source": [
    "train['two_level_A']=train['range_of_shot']+'_'+train['area_of_shot']\n",
    "train['two_level_A_enc']=train.two_level_A.map(train.groupby(['two_level_A']).is_goal.mean())\n",
    "test['two_level_A']=test['range_of_shot']+'_'+test['area_of_shot']\n",
    "test['two_level_A_enc']=test['two_level_A'].map(train.groupby(['two_level_A']).is_goal.mean())"
   ]
  },
  {
   "cell_type": "code",
   "execution_count": 602,
   "metadata": {
    "collapsed": true
   },
   "outputs": [],
   "source": [
    "train['t_sec']=(train['remaining_min_f']*60)+train['remaining_sec_f']"
   ]
  },
  {
   "cell_type": "code",
   "execution_count": 604,
   "metadata": {
    "collapsed": true
   },
   "outputs": [],
   "source": [
    "test['t_sec']=(test['remaining_min_f']*60)+test['remaining_sec_f']"
   ]
  },
  {
   "cell_type": "code",
   "execution_count": 380,
   "metadata": {
    "collapsed": true
   },
   "outputs": [],
   "source": [
    "train['range_of_shot_enc']=train.range_of_shot.map(train.groupby(['range_of_shot']).is_goal.mean())\n",
    "train['match_id_enc']=train.match_id.map(train.groupby(['match_id']).is_goal.mean())\n",
    "train['shot_type_comb_enc']=train.shot_type_comb.map(train.groupby(['shot_type_comb']).is_goal.mean())\n",
    "train['shot_type_diff_enc']=train.shot_type_diff.map(train.groupby(['shot_type_diff']).is_goal.mean())\n",
    "train['shot_basics_enc']=train.shot_basics.map(train.groupby(['shot_basics']).is_goal.mean())\n",
    "train['area_of_shot_enc']=train.area_of_shot.map(train.groupby(['area_of_shot']).is_goal.mean())\n",
    "train['match_event_id_enc']=train.match_event_id.map(train.groupby(['match_event_id']).is_goal.mean())"
   ]
  },
  {
   "cell_type": "code",
   "execution_count": 381,
   "metadata": {
    "collapsed": true
   },
   "outputs": [],
   "source": [
    "for m in cat:\n",
    "    test[m+'_enc']=test[m].map(train.groupby([m]).is_goal.mean())"
   ]
  },
  {
   "cell_type": "code",
   "execution_count": 614,
   "metadata": {
    "collapsed": true
   },
   "outputs": [],
   "source": [
    "features=num+['range_of_shot_enc',#'shot_type_comb_enc',\n",
    "              'shot_type_diff_enc',\n",
    "              'match_event_id_enc',\n",
    "              'shot_basics_enc',\n",
    "              'area_of_shot_enc',\n",
    "              'match_id_enc','two_level_enc','t_sec'\n",
    "             ]"
   ]
  },
  {
   "cell_type": "markdown",
   "metadata": {},
   "source": [
    "# scoring"
   ]
  },
  {
   "cell_type": "code",
   "execution_count": 434,
   "metadata": {
    "collapsed": true
   },
   "outputs": [],
   "source": [
    "def printing_Kfold(x_data,y_data,seed=2,split=10):\n",
    "    skf = StratifiedKFold(n_splits=split,shuffle=True,random_state=seed)\n",
    "    metric_score = []\n",
    "    for train_index,test_index in skf.split(x_data,y_data):\n",
    "        X_train, X_test = x_data[train_index], x_data[test_index]\n",
    "        y_train, y_test = y_data[train_index], y_data[test_index]\n",
    "        lr=lgb.LGBMClassifier()\n",
    "        #lr = RandomForestClassifier(n_estimators=100,max_depth=10,min_samples_leaf=50,random_state=seed)\n",
    "        #lr=GradientBoostingClassifier(n_estimators=200,random_state=2,min_samples_split=40,max_depth=7,subsample=0.8,learning_rate=0.05)\n",
    "        lr.fit(X_train,y_train)\n",
    "        pred = lr.predict(X_test)\n",
    "        pred_prob = lr.predict_proba(X_test)[:,1]\n",
    "        MAE=mean_absolute_error(y_test,pred_prob)\n",
    "        score=1/(1+MAE)\n",
    "        metric_score.append(score)\n",
    "    print(\"average scores:\")\n",
    "    print(sum(metric_score)/len(metric_score))"
   ]
  },
  {
   "cell_type": "code",
   "execution_count": 384,
   "metadata": {
    "collapsed": false
   },
   "outputs": [
    {
     "name": "stderr",
     "output_type": "stream",
     "text": [
      "/home/divyam.arora/anaconda3/lib/python3.6/site-packages/sklearn/preprocessing/label.py:151: DeprecationWarning: The truth value of an empty array is ambiguous. Returning False, but in future this will result in an error. Use `array.size > 0` to check that an array is not empty.\n",
      "  if diff:\n",
      "/home/divyam.arora/anaconda3/lib/python3.6/site-packages/sklearn/preprocessing/label.py:151: DeprecationWarning: The truth value of an empty array is ambiguous. Returning False, but in future this will result in an error. Use `array.size > 0` to check that an array is not empty.\n",
      "  if diff:\n",
      "/home/divyam.arora/anaconda3/lib/python3.6/site-packages/sklearn/preprocessing/label.py:151: DeprecationWarning: The truth value of an empty array is ambiguous. Returning False, but in future this will result in an error. Use `array.size > 0` to check that an array is not empty.\n",
      "  if diff:\n",
      "/home/divyam.arora/anaconda3/lib/python3.6/site-packages/sklearn/preprocessing/label.py:151: DeprecationWarning: The truth value of an empty array is ambiguous. Returning False, but in future this will result in an error. Use `array.size > 0` to check that an array is not empty.\n",
      "  if diff:\n",
      "/home/divyam.arora/anaconda3/lib/python3.6/site-packages/sklearn/preprocessing/label.py:151: DeprecationWarning: The truth value of an empty array is ambiguous. Returning False, but in future this will result in an error. Use `array.size > 0` to check that an array is not empty.\n",
      "  if diff:\n",
      "/home/divyam.arora/anaconda3/lib/python3.6/site-packages/sklearn/preprocessing/label.py:151: DeprecationWarning: The truth value of an empty array is ambiguous. Returning False, but in future this will result in an error. Use `array.size > 0` to check that an array is not empty.\n",
      "  if diff:\n",
      "/home/divyam.arora/anaconda3/lib/python3.6/site-packages/sklearn/preprocessing/label.py:151: DeprecationWarning: The truth value of an empty array is ambiguous. Returning False, but in future this will result in an error. Use `array.size > 0` to check that an array is not empty.\n",
      "  if diff:\n",
      "/home/divyam.arora/anaconda3/lib/python3.6/site-packages/sklearn/preprocessing/label.py:151: DeprecationWarning: The truth value of an empty array is ambiguous. Returning False, but in future this will result in an error. Use `array.size > 0` to check that an array is not empty.\n",
      "  if diff:\n"
     ]
    },
    {
     "name": "stdout",
     "output_type": "stream",
     "text": [
      "average scores:\n",
      "0.7025178785473759\n"
     ]
    },
    {
     "name": "stderr",
     "output_type": "stream",
     "text": [
      "/home/divyam.arora/anaconda3/lib/python3.6/site-packages/sklearn/preprocessing/label.py:151: DeprecationWarning: The truth value of an empty array is ambiguous. Returning False, but in future this will result in an error. Use `array.size > 0` to check that an array is not empty.\n",
      "  if diff:\n",
      "/home/divyam.arora/anaconda3/lib/python3.6/site-packages/sklearn/preprocessing/label.py:151: DeprecationWarning: The truth value of an empty array is ambiguous. Returning False, but in future this will result in an error. Use `array.size > 0` to check that an array is not empty.\n",
      "  if diff:\n"
     ]
    }
   ],
   "source": [
    "printing_Kfold(train[features].values,train['is_goal'].values)\n",
    "#average scores:\n",
    "#0.6964531011183455"
   ]
  },
  {
   "cell_type": "markdown",
   "metadata": {},
   "source": [
    "# subimission"
   ]
  },
  {
   "cell_type": "code",
   "execution_count": 279,
   "metadata": {
    "collapsed": true
   },
   "outputs": [],
   "source": [
    "from sklearn.ensemble import GradientBoostingClassifier"
   ]
  },
  {
   "cell_type": "code",
   "execution_count": 356,
   "metadata": {
    "collapsed": true
   },
   "outputs": [],
   "source": [
    "import lightgbm as lgb"
   ]
  },
  {
   "cell_type": "code",
   "execution_count": 536,
   "metadata": {
    "collapsed": true
   },
   "outputs": [],
   "source": [
    "import xgboost as xgb"
   ]
  },
  {
   "cell_type": "code",
   "execution_count": 545,
   "metadata": {
    "collapsed": true
   },
   "outputs": [],
   "source": [
    "param_xgb={'max_depth':range(3,13,2),\n",
    "          'min_child_weight':range(1,20,2),\n",
    "           'gamma':[i/10.0 for i in range(0,8)],\n",
    "           'subsample':[i/10.0 for i in range(6,10)],\n",
    "           'colsample_bytree':[i/10.0 for i in range(6,10)],\n",
    "           'reg_alpha':[1e-5,1e-2,0.1,1,100,0.05,0.01],\n",
    "           'learning_rate':[0.1,0.01,0.001,0.005,0.03,0.03,0.04,0.003,0.002]\n",
    "          }"
   ]
  },
  {
   "cell_type": "code",
   "execution_count": 546,
   "metadata": {
    "collapsed": true
   },
   "outputs": [],
   "source": [
    "rf=xgb.XGBClassifier(learning_rate=0.1,n_estimators=1000,max_depth=5,min_child_weight=1,gamma=0,subsample=0.8,\n",
    "                    colsample_bytree=0.8,objective='binary:logistic',seed=2)\n",
    "n_HP_points_to_test = 20\n",
    "gs = RandomizedSearchCV(\n",
    "    estimator=rf, param_distributions=param_xgb, \n",
    "    n_iter=n_HP_points_to_test,\n",
    "    scoring='roc_auc',\n",
    "    cv=3,\n",
    "    refit=True,\n",
    "    random_state=2,\n",
    "    verbose=True)"
   ]
  },
  {
   "cell_type": "code",
   "execution_count": 549,
   "metadata": {
    "collapsed": false
   },
   "outputs": [
    {
     "name": "stdout",
     "output_type": "stream",
     "text": [
      "Fitting 3 folds for each of 20 candidates, totalling 60 fits\n"
     ]
    },
    {
     "name": "stderr",
     "output_type": "stream",
     "text": [
      "[Parallel(n_jobs=1)]: Done  60 out of  60 | elapsed: 13.7min finished\n"
     ]
    },
    {
     "name": "stdout",
     "output_type": "stream",
     "text": [
      "Best score reached: 0.6947662961852485 with params: {'subsample': 0.6, 'reg_alpha': 100, 'min_child_weight': 11, 'max_depth': 3, 'learning_rate': 0.01, 'gamma': 0.0, 'colsample_bytree': 0.8} \n"
     ]
    }
   ],
   "source": [
    "gs.fit(train[features],train['is_goal'])\n",
    "print('Best score reached: {} with params: {} '.format(gs.best_score_, gs.best_params_))"
   ]
  },
  {
   "cell_type": "code",
   "execution_count": 516,
   "metadata": {
    "collapsed": true
   },
   "outputs": [],
   "source": [
    "from scipy.stats import randint as sp_randint\n",
    "from scipy.stats import uniform as sp_uniform\n",
    "param_test ={'num_leaves': sp_randint(6, 50), \n",
    "             'min_child_samples': sp_randint(100, 500), \n",
    "             'min_child_weight': [1e-5, 1e-3, 1e-2, 1e-1, 1, 1e1, 1e2, 1e3, 1e4],\n",
    "             'subsample': sp_uniform(loc=0.2, scale=0.8), \n",
    "             'colsample_bytree': sp_uniform(loc=0.4, scale=0.6),\n",
    "             'reg_alpha': [0, 1e-1, 1, 2, 5, 7, 10, 50, 100],\n",
    "             'reg_lambda': [0, 1e-1, 1, 5, 10, 20, 50, 100],\n",
    "             'learning_rate':[0.005,0.05,0.001,0.1,0.002,0.0005,0.003,0.004],\n",
    "             'bagging_fraction':[0.5,0.6,0.7,0.8,0.9],\n",
    "             'feature_fraction':[0.5,0.6,0.7,0.8,0.9],\n",
    "             'bagging_frequency':[6,7,8,9,5,4],\n",
    "             'max_depth':[7,8,9,10,11,12,13,14,15],\n",
    "             'n_estimators':[100,200,300,400,500,600]\n",
    "            }"
   ]
  },
  {
   "cell_type": "code",
   "execution_count": 517,
   "metadata": {
    "collapsed": true
   },
   "outputs": [],
   "source": [
    "fit_params={\"eval_metric\" : 'binary_logloss',\n",
    "            'verbose': 100}"
   ]
  },
  {
   "cell_type": "code",
   "execution_count": 623,
   "metadata": {
    "collapsed": true
   },
   "outputs": [],
   "source": [
    "#This parameter defines the number of HP points to be tested\n",
    "n_HP_points_to_test = 500\n",
    "\n",
    "import lightgbm as lgb\n",
    "from sklearn.model_selection import RandomizedSearchCV, GridSearchCV\n",
    "\n",
    "#n_estimators is set to a \"large value\". The actual number of trees build will depend on early stopping and 5000 define only the absolute maximum\n",
    "clf = lgb.LGBMClassifier(random_state=2, silent=True, metric='None', n_jobs=4)\n",
    "gs = RandomizedSearchCV(\n",
    "    estimator=clf, param_distributions=param_test, \n",
    "    n_iter=n_HP_points_to_test,\n",
    "    scoring='roc_auc',\n",
    "    cv=3,\n",
    "    refit=True,\n",
    "    random_state=2,\n",
    "    verbose=True)"
   ]
  },
  {
   "cell_type": "code",
   "execution_count": 624,
   "metadata": {
    "collapsed": false
   },
   "outputs": [
    {
     "name": "stdout",
     "output_type": "stream",
     "text": [
      "Fitting 3 folds for each of 500 candidates, totalling 1500 fits\n"
     ]
    },
    {
     "name": "stderr",
     "output_type": "stream",
     "text": [
      "[Parallel(n_jobs=1)]: Done 1500 out of 1500 | elapsed: 11.3min finished\n"
     ]
    },
    {
     "name": "stdout",
     "output_type": "stream",
     "text": [
      "Best score reached: 0.7005522419215511 with params: {'bagging_fraction': 0.7, 'bagging_frequency': 7, 'colsample_bytree': 0.7241149094002786, 'feature_fraction': 0.7, 'learning_rate': 0.005, 'max_depth': 7, 'min_child_samples': 136, 'min_child_weight': 100.0, 'n_estimators': 400, 'num_leaves': 37, 'reg_alpha': 0.1, 'reg_lambda': 20, 'subsample': 0.45705486862604483} \n"
     ]
    }
   ],
   "source": [
    "gs.fit(train[features],train['is_goal'], **fit_params)\n",
    "print('Best score reached: {} with params: {} '.format(gs.best_score_, gs.best_params_))"
   ]
  },
  {
   "cell_type": "code",
   "execution_count": 244,
   "metadata": {
    "collapsed": true
   },
   "outputs": [],
   "source": [
    "#0.828\n",
    "#rf=GradientBoostingClassifier(n_estimators=100,random_state=2,min_samples_split=40,max_depth=10,subsample=0.8,learning_rate=0.1)"
   ]
  },
  {
   "cell_type": "code",
   "execution_count": 280,
   "metadata": {
    "collapsed": true
   },
   "outputs": [],
   "source": [
    "#rf=GradientBoostingClassifier(n_estimators=200,random_state=2,min_samples_split=40,max_depth=7,subsample=0.9,learning_rate=0.05)"
   ]
  },
  {
   "cell_type": "code",
   "execution_count": 520,
   "metadata": {
    "collapsed": true
   },
   "outputs": [],
   "source": [
    "#rf=lgb.LGBMClassifier(bagging_fraction=0.7, bagging_frequency=7, colsample_bytree=0.9923829142892048, feature_fraction=0.7, learning_rate=0.003, max_depth=8, min_child_samples=338, min_child_weight=100.0, n_estimators=600, num_leaves=25, reg_alpha=0, reg_lambda=50, subsample=0.23301529515261993)"
   ]
  },
  {
   "cell_type": "code",
   "execution_count": 615,
   "metadata": {
    "collapsed": true
   },
   "outputs": [],
   "source": [
    "rf=lgb.LGBMClassifier(learning_rate=0.005,bagging_fraction=0.7,feature_fraction=0.5,bagging_frequency=6)"
   ]
  },
  {
   "cell_type": "code",
   "execution_count": 625,
   "metadata": {
    "collapsed": true
   },
   "outputs": [],
   "source": [
    "rf=lgb.LGBMClassifier(bagging_fraction=0.7,bagging_frequency=7,colsample_bytree=0.7241149094002786,\n",
    "                      feature_fraction=0.7, learning_rate=0.005, max_depth=7,\n",
    "                      min_child_samples=136,min_child_weight=100.0,n_estimators=400,num_leaves=37,\n",
    "                      reg_alpha=0.1,reg_lambda=20,subsample=0.45705486862604483)"
   ]
  },
  {
   "cell_type": "code",
   "execution_count": 557,
   "metadata": {
    "collapsed": true
   },
   "outputs": [],
   "source": [
    "rf=xgb.XGBClassifier(subsample=0.6,reg_alpha=100,min_child_weight=11,max_depth=3,learning_rate=0.01,gamma=0.0, colsample_bytree=0.8,seed=2)\n",
    "['location_x',\n",
    " 'location_y',\n",
    " 'remaining_min_f',\n",
    " 'remaining_sec_f',\n",
    " 'power_of_shot_f',\n",
    " 'distance_of_shot_f',\n",
    " 'date_of_game_f',\n",
    " 'shot_angle',\n",
    " 'shot_distance',\n",
    " 'range_of_shot_enc',\n",
    " 'shot_type_diff_enc',\n",
    " 'match_event_id_enc',\n",
    " 'shot_basics_enc',\n",
    " 'area_of_shot_enc',\n",
    " 'match_id_enc']"
   ]
  },
  {
   "cell_type": "code",
   "execution_count": 626,
   "metadata": {
    "collapsed": false
   },
   "outputs": [
    {
     "data": {
      "text/plain": [
       "LGBMClassifier(bagging_fraction=0.7, bagging_frequency=7,\n",
       "        boosting_type='gbdt', class_weight=None,\n",
       "        colsample_bytree=0.7241149094002786, feature_fraction=0.7,\n",
       "        importance_type='split', learning_rate=0.005, max_depth=7,\n",
       "        min_child_samples=136, min_child_weight=100.0, min_split_gain=0.0,\n",
       "        n_estimators=400, n_jobs=-1, num_leaves=37, objective=None,\n",
       "        random_state=None, reg_alpha=0.1, reg_lambda=20, silent=True,\n",
       "        subsample=0.45705486862604483, subsample_for_bin=200000,\n",
       "        subsample_freq=0)"
      ]
     },
     "execution_count": 626,
     "metadata": {},
     "output_type": "execute_result"
    }
   ],
   "source": [
    "#rf=RandomForestClassifier(n_estimators=100,max_depth=10,min_samples_leaf=50,random_state=2)\n",
    "rf.fit(train[features],train['is_goal'])"
   ]
  },
  {
   "cell_type": "code",
   "execution_count": 617,
   "metadata": {
    "collapsed": true
   },
   "outputs": [],
   "source": [
    "importance=pd.DataFrame()\n",
    "importance['features']=features\n",
    "importance['imp']=rf.feature_importances_"
   ]
  },
  {
   "cell_type": "code",
   "execution_count": null,
   "metadata": {
    "collapsed": true
   },
   "outputs": [],
   "source": [
    "LGBMClassifier(bagging_fraction=0.7, bagging_frequency=6,\n",
    "        boosting_type='gbdt', class_weight=None, colsample_bytree=1.0,\n",
    "        feature_fraction=0.5, importance_type='split', learning_rate=0.005,\n",
    "        max_depth=-1, min_child_samples=20, min_child_weight=0.001,\n",
    "        min_split_gain=0.0, n_estimators=100, n_jobs=-1, num_leaves=31,\n",
    "        objective=None, random_state=None, reg_alpha=0.0, reg_lambda=0.0,\n",
    "        silent=True, subsample=1.0, subsample_for_bin=200000,\n",
    "        subsample_freq=0)\n",
    "rf=lgb.LGBMClassifier(learning_rate=0.005,bagging_fraction=0.7,feature_fraction=0.5,bagging_frequency=6) 0.874\n",
    "['location_x',\n",
    " 'location_y',\n",
    " 'remaining_min_f',\n",
    " 'remaining_sec_f',\n",
    " 'power_of_shot_f',\n",
    " 'distance_of_shot_f',\n",
    " 'date_of_game_f',\n",
    " 'shot_angle',\n",
    " 'shot_distance',\n",
    " 'range_of_shot_enc',\n",
    " 'shot_type_diff_enc',\n",
    " 'match_event_id_enc',\n",
    " 'shot_basics_enc',\n",
    " 'area_of_shot_enc',\n",
    " 'match_id_enc']"
   ]
  },
  {
   "cell_type": "code",
   "execution_count": 523,
   "metadata": {
    "collapsed": false
   },
   "outputs": [
    {
     "data": {
      "text/html": [
       "<div>\n",
       "<style scoped>\n",
       "    .dataframe tbody tr th:only-of-type {\n",
       "        vertical-align: middle;\n",
       "    }\n",
       "\n",
       "    .dataframe tbody tr th {\n",
       "        vertical-align: top;\n",
       "    }\n",
       "\n",
       "    .dataframe thead th {\n",
       "        text-align: right;\n",
       "    }\n",
       "</style>\n",
       "<table border=\"1\" class=\"dataframe\">\n",
       "  <thead>\n",
       "    <tr style=\"text-align: right;\">\n",
       "      <th></th>\n",
       "      <th>features</th>\n",
       "      <th>imp</th>\n",
       "    </tr>\n",
       "  </thead>\n",
       "  <tbody>\n",
       "    <tr>\n",
       "      <th>0</th>\n",
       "      <td>location_x</td>\n",
       "      <td>682</td>\n",
       "    </tr>\n",
       "    <tr>\n",
       "      <th>1</th>\n",
       "      <td>location_y</td>\n",
       "      <td>985</td>\n",
       "    </tr>\n",
       "    <tr>\n",
       "      <th>2</th>\n",
       "      <td>remaining_min_f</td>\n",
       "      <td>706</td>\n",
       "    </tr>\n",
       "    <tr>\n",
       "      <th>3</th>\n",
       "      <td>remaining_sec_f</td>\n",
       "      <td>845</td>\n",
       "    </tr>\n",
       "    <tr>\n",
       "      <th>4</th>\n",
       "      <td>power_of_shot_f</td>\n",
       "      <td>190</td>\n",
       "    </tr>\n",
       "    <tr>\n",
       "      <th>5</th>\n",
       "      <td>distance_of_shot_f</td>\n",
       "      <td>794</td>\n",
       "    </tr>\n",
       "    <tr>\n",
       "      <th>6</th>\n",
       "      <td>date_of_game_f</td>\n",
       "      <td>746</td>\n",
       "    </tr>\n",
       "    <tr>\n",
       "      <th>7</th>\n",
       "      <td>shot_angle</td>\n",
       "      <td>529</td>\n",
       "    </tr>\n",
       "    <tr>\n",
       "      <th>8</th>\n",
       "      <td>shot_distance</td>\n",
       "      <td>2151</td>\n",
       "    </tr>\n",
       "    <tr>\n",
       "      <th>9</th>\n",
       "      <td>range_of_shot_enc</td>\n",
       "      <td>217</td>\n",
       "    </tr>\n",
       "    <tr>\n",
       "      <th>10</th>\n",
       "      <td>shot_type_diff_enc</td>\n",
       "      <td>2033</td>\n",
       "    </tr>\n",
       "    <tr>\n",
       "      <th>11</th>\n",
       "      <td>match_event_id_enc</td>\n",
       "      <td>979</td>\n",
       "    </tr>\n",
       "    <tr>\n",
       "      <th>12</th>\n",
       "      <td>shot_basics_enc</td>\n",
       "      <td>315</td>\n",
       "    </tr>\n",
       "    <tr>\n",
       "      <th>13</th>\n",
       "      <td>area_of_shot_enc</td>\n",
       "      <td>226</td>\n",
       "    </tr>\n",
       "    <tr>\n",
       "      <th>14</th>\n",
       "      <td>match_id_enc</td>\n",
       "      <td>2826</td>\n",
       "    </tr>\n",
       "  </tbody>\n",
       "</table>\n",
       "</div>"
      ],
      "text/plain": [
       "              features   imp\n",
       "0           location_x   682\n",
       "1           location_y   985\n",
       "2      remaining_min_f   706\n",
       "3      remaining_sec_f   845\n",
       "4      power_of_shot_f   190\n",
       "5   distance_of_shot_f   794\n",
       "6       date_of_game_f   746\n",
       "7           shot_angle   529\n",
       "8        shot_distance  2151\n",
       "9    range_of_shot_enc   217\n",
       "10  shot_type_diff_enc  2033\n",
       "11  match_event_id_enc   979\n",
       "12     shot_basics_enc   315\n",
       "13    area_of_shot_enc   226\n",
       "14        match_id_enc  2826"
      ]
     },
     "execution_count": 523,
     "metadata": {},
     "output_type": "execute_result"
    }
   ],
   "source": [
    "importance"
   ]
  },
  {
   "cell_type": "code",
   "execution_count": 539,
   "metadata": {
    "collapsed": true
   },
   "outputs": [],
   "source": [
    "out2=out.copy()#lgbm"
   ]
  },
  {
   "cell_type": "code",
   "execution_count": 564,
   "metadata": {
    "collapsed": true
   },
   "outputs": [],
   "source": [
    "out3=out.copy()#xgb"
   ]
  },
  {
   "cell_type": "code",
   "execution_count": 575,
   "metadata": {
    "collapsed": true
   },
   "outputs": [],
   "source": [
    "out4=out.copy()#lgbm two level one feature without tsec"
   ]
  },
  {
   "cell_type": "code",
   "execution_count": 664,
   "metadata": {
    "collapsed": true
   },
   "outputs": [],
   "source": [
    "out4['is_goal']=(2*out2['is_goal']*out3['is_goal'])/(out2['is_goal']+out3['is_goal'])"
   ]
  },
  {
   "cell_type": "code",
   "execution_count": 665,
   "metadata": {
    "collapsed": true
   },
   "outputs": [],
   "source": [
    "out4['is_goal']=0.1*out4['is_goal']+0.9*out3['is_goal']"
   ]
  },
  {
   "cell_type": "code",
   "execution_count": 641,
   "metadata": {
    "collapsed": true
   },
   "outputs": [],
   "source": [
    "out=pd.DataFrame()\n",
    "out['is_goal']=rf.predict_proba(test[features].fillna(0))[:,1]"
   ]
  },
  {
   "cell_type": "code",
   "execution_count": 666,
   "metadata": {
    "collapsed": true
   },
   "outputs": [],
   "source": [
    "out=pd.concat([test['shot_id_number'].reset_index(drop=True),out4['is_goal']],axis=1)"
   ]
  },
  {
   "cell_type": "code",
   "execution_count": 620,
   "metadata": {
    "collapsed": true
   },
   "outputs": [],
   "source": [
    "#del submission['is_goal']"
   ]
  },
  {
   "cell_type": "code",
   "execution_count": 667,
   "metadata": {
    "collapsed": true
   },
   "outputs": [],
   "source": [
    "final=pd.merge(submission,out,how='left',on='shot_id_number')"
   ]
  },
  {
   "cell_type": "code",
   "execution_count": 668,
   "metadata": {
    "collapsed": true
   },
   "outputs": [],
   "source": [
    "final.to_csv('sub_d19_hmean.csv',index=False)"
   ]
  },
  {
   "cell_type": "code",
   "execution_count": 238,
   "metadata": {
    "collapsed": true
   },
   "outputs": [],
   "source": [
    "import seaborn as sns\n",
    "import matplotlib.pyplot as plt"
   ]
  },
  {
   "cell_type": "code",
   "execution_count": 240,
   "metadata": {
    "collapsed": true
   },
   "outputs": [],
   "source": [
    "% matplotlib inline"
   ]
  },
  {
   "cell_type": "code",
   "execution_count": 591,
   "metadata": {
    "collapsed": true
   },
   "outputs": [],
   "source": [
    "dat=pd.concat([train[features],train['is_goal']],axis=1)"
   ]
  },
  {
   "cell_type": "code",
   "execution_count": 592,
   "metadata": {
    "collapsed": false
   },
   "outputs": [
    {
     "data": {
      "text/plain": [
       "shot_distance        -0.198094\n",
       "location_y           -0.145690\n",
       "distance_of_shot_f   -0.104629\n",
       "date_of_game_f       -0.020133\n",
       "location_x           -0.003353\n",
       "shot_angle           -0.002432\n",
       "power_of_shot_f       0.002076\n",
       "remaining_min_f       0.004651\n",
       "remaining_sec_f       0.019169\n",
       "match_event_id_enc    0.053643\n",
       "area_of_shot_enc      0.148968\n",
       "range_of_shot_enc     0.183910\n",
       "two_level_A_enc       0.190246\n",
       "shot_basics_enc       0.206058\n",
       "two_level_enc         0.209454\n",
       "match_id_enc          0.248284\n",
       "shot_type_diff_enc    0.254354\n",
       "is_goal               1.000000\n",
       "Name: is_goal, dtype: float64"
      ]
     },
     "execution_count": 592,
     "metadata": {},
     "output_type": "execute_result"
    }
   ],
   "source": [
    "dat.corr()['is_goal'].sort_values()"
   ]
  },
  {
   "cell_type": "code",
   "execution_count": 593,
   "metadata": {
    "collapsed": false
   },
   "outputs": [
    {
     "data": {
      "image/png": "[encoded data removed]",
      "text/plain": [
       "<Figure size 432x288 with 2 Axes>"
      ]
     },
     "metadata": {},
     "output_type": "display_data"
    }
   ],
   "source": [
    "sns.heatmap(dat.corr())\n",
    "plt.show()"
   ]
  },
  {
   "cell_type": "code",
   "execution_count": 213,
   "metadata": {
    "collapsed": false
   },
   "outputs": [
    {
     "data": {
      "text/html": [
       "<div>\n",
       "<style scoped>\n",
       "    .dataframe tbody tr th:only-of-type {\n",
       "        vertical-align: middle;\n",
       "    }\n",
       "\n",
       "    .dataframe tbody tr th {\n",
       "        vertical-align: top;\n",
       "    }\n",
       "\n",
       "    .dataframe thead th {\n",
       "        text-align: right;\n",
       "    }\n",
       "</style>\n",
       "<table border=\"1\" class=\"dataframe\">\n",
       "  <thead>\n",
       "    <tr style=\"text-align: right;\">\n",
       "      <th></th>\n",
       "      <th>features</th>\n",
       "      <th>imp</th>\n",
       "    </tr>\n",
       "  </thead>\n",
       "  <tbody>\n",
       "    <tr>\n",
       "      <th>5</th>\n",
       "      <td>knockout_match_f</td>\n",
       "      <td>0.000945</td>\n",
       "    </tr>\n",
       "    <tr>\n",
       "      <th>4</th>\n",
       "      <td>power_of_shot_f</td>\n",
       "      <td>0.007078</td>\n",
       "    </tr>\n",
       "    <tr>\n",
       "      <th>15</th>\n",
       "      <td>area_of_shot_enc</td>\n",
       "      <td>0.012466</td>\n",
       "    </tr>\n",
       "    <tr>\n",
       "      <th>7</th>\n",
       "      <td>game_season_f</td>\n",
       "      <td>0.014317</td>\n",
       "    </tr>\n",
       "    <tr>\n",
       "      <th>2</th>\n",
       "      <td>remaining_min_f</td>\n",
       "      <td>0.017385</td>\n",
       "    </tr>\n",
       "    <tr>\n",
       "      <th>11</th>\n",
       "      <td>match_event_id</td>\n",
       "      <td>0.017456</td>\n",
       "    </tr>\n",
       "    <tr>\n",
       "      <th>0</th>\n",
       "      <td>location_x</td>\n",
       "      <td>0.021848</td>\n",
       "    </tr>\n",
       "    <tr>\n",
       "      <th>9</th>\n",
       "      <td>shot_angle</td>\n",
       "      <td>0.022599</td>\n",
       "    </tr>\n",
       "    <tr>\n",
       "      <th>3</th>\n",
       "      <td>remaining_sec_f</td>\n",
       "      <td>0.025379</td>\n",
       "    </tr>\n",
       "    <tr>\n",
       "      <th>14</th>\n",
       "      <td>shot_basics_enc</td>\n",
       "      <td>0.029545</td>\n",
       "    </tr>\n",
       "    <tr>\n",
       "      <th>8</th>\n",
       "      <td>date_of_game_f</td>\n",
       "      <td>0.029774</td>\n",
       "    </tr>\n",
       "    <tr>\n",
       "      <th>12</th>\n",
       "      <td>range_of_shot_fill_enc</td>\n",
       "      <td>0.031973</td>\n",
       "    </tr>\n",
       "    <tr>\n",
       "      <th>1</th>\n",
       "      <td>location_y</td>\n",
       "      <td>0.041032</td>\n",
       "    </tr>\n",
       "    <tr>\n",
       "      <th>6</th>\n",
       "      <td>distance_of_shot_f</td>\n",
       "      <td>0.057135</td>\n",
       "    </tr>\n",
       "    <tr>\n",
       "      <th>10</th>\n",
       "      <td>shot_distance</td>\n",
       "      <td>0.105831</td>\n",
       "    </tr>\n",
       "    <tr>\n",
       "      <th>13</th>\n",
       "      <td>shot_type_diff_enc</td>\n",
       "      <td>0.265237</td>\n",
       "    </tr>\n",
       "    <tr>\n",
       "      <th>16</th>\n",
       "      <td>match_id_enc</td>\n",
       "      <td>0.300000</td>\n",
       "    </tr>\n",
       "  </tbody>\n",
       "</table>\n",
       "</div>"
      ],
      "text/plain": [
       "                  features       imp\n",
       "5         knockout_match_f  0.000945\n",
       "4          power_of_shot_f  0.007078\n",
       "15        area_of_shot_enc  0.012466\n",
       "7            game_season_f  0.014317\n",
       "2          remaining_min_f  0.017385\n",
       "11          match_event_id  0.017456\n",
       "0               location_x  0.021848\n",
       "9               shot_angle  0.022599\n",
       "3          remaining_sec_f  0.025379\n",
       "14         shot_basics_enc  0.029545\n",
       "8           date_of_game_f  0.029774\n",
       "12  range_of_shot_fill_enc  0.031973\n",
       "1               location_y  0.041032\n",
       "6       distance_of_shot_f  0.057135\n",
       "10           shot_distance  0.105831\n",
       "13      shot_type_diff_enc  0.265237\n",
       "16            match_id_enc  0.300000"
      ]
     },
     "execution_count": 213,
     "metadata": {},
     "output_type": "execute_result"
    }
   ],
   "source": [
    "importance.sort_values('imp')"
   ]
  },
  {
   "cell_type": "code",
   "execution_count": 185,
   "metadata": {
    "collapsed": false
   },
   "outputs": [
    {
     "data": {
      "text/html": [
       "<div>\n",
       "<style scoped>\n",
       "    .dataframe tbody tr th:only-of-type {\n",
       "        vertical-align: middle;\n",
       "    }\n",
       "\n",
       "    .dataframe tbody tr th {\n",
       "        vertical-align: top;\n",
       "    }\n",
       "\n",
       "    .dataframe thead th {\n",
       "        text-align: right;\n",
       "    }\n",
       "</style>\n",
       "<table border=\"1\" class=\"dataframe\">\n",
       "  <thead>\n",
       "    <tr style=\"text-align: right;\">\n",
       "      <th></th>\n",
       "      <th>features</th>\n",
       "      <th>imp</th>\n",
       "    </tr>\n",
       "  </thead>\n",
       "  <tbody>\n",
       "    <tr>\n",
       "      <th>12</th>\n",
       "      <td>range_of_shot_fill_enc</td>\n",
       "      <td>0.009618</td>\n",
       "    </tr>\n",
       "    <tr>\n",
       "      <th>5</th>\n",
       "      <td>knockout_match_f</td>\n",
       "      <td>0.012445</td>\n",
       "    </tr>\n",
       "    <tr>\n",
       "      <th>14</th>\n",
       "      <td>shot_basics_enc</td>\n",
       "      <td>0.013037</td>\n",
       "    </tr>\n",
       "    <tr>\n",
       "      <th>15</th>\n",
       "      <td>area_of_shot_enc</td>\n",
       "      <td>0.014016</td>\n",
       "    </tr>\n",
       "    <tr>\n",
       "      <th>4</th>\n",
       "      <td>power_of_shot_f</td>\n",
       "      <td>0.031021</td>\n",
       "    </tr>\n",
       "    <tr>\n",
       "      <th>6</th>\n",
       "      <td>distance_of_shot_f</td>\n",
       "      <td>0.040594</td>\n",
       "    </tr>\n",
       "    <tr>\n",
       "      <th>7</th>\n",
       "      <td>game_season_f</td>\n",
       "      <td>0.049491</td>\n",
       "    </tr>\n",
       "    <tr>\n",
       "      <th>2</th>\n",
       "      <td>remaining_min_f</td>\n",
       "      <td>0.064247</td>\n",
       "    </tr>\n",
       "    <tr>\n",
       "      <th>0</th>\n",
       "      <td>location_x</td>\n",
       "      <td>0.067056</td>\n",
       "    </tr>\n",
       "    <tr>\n",
       "      <th>1</th>\n",
       "      <td>location_y</td>\n",
       "      <td>0.069240</td>\n",
       "    </tr>\n",
       "    <tr>\n",
       "      <th>9</th>\n",
       "      <td>shot_angle</td>\n",
       "      <td>0.073373</td>\n",
       "    </tr>\n",
       "    <tr>\n",
       "      <th>11</th>\n",
       "      <td>match_event_id</td>\n",
       "      <td>0.075482</td>\n",
       "    </tr>\n",
       "    <tr>\n",
       "      <th>13</th>\n",
       "      <td>shot_type_comb_enc</td>\n",
       "      <td>0.081612</td>\n",
       "    </tr>\n",
       "    <tr>\n",
       "      <th>10</th>\n",
       "      <td>shot_distance</td>\n",
       "      <td>0.086396</td>\n",
       "    </tr>\n",
       "    <tr>\n",
       "      <th>3</th>\n",
       "      <td>remaining_sec_f</td>\n",
       "      <td>0.089412</td>\n",
       "    </tr>\n",
       "    <tr>\n",
       "      <th>8</th>\n",
       "      <td>date_of_game_f</td>\n",
       "      <td>0.095241</td>\n",
       "    </tr>\n",
       "    <tr>\n",
       "      <th>16</th>\n",
       "      <td>match_id_enc</td>\n",
       "      <td>0.127719</td>\n",
       "    </tr>\n",
       "  </tbody>\n",
       "</table>\n",
       "</div>"
      ],
      "text/plain": [
       "                  features       imp\n",
       "12  range_of_shot_fill_enc  0.009618\n",
       "5         knockout_match_f  0.012445\n",
       "14         shot_basics_enc  0.013037\n",
       "15        area_of_shot_enc  0.014016\n",
       "4          power_of_shot_f  0.031021\n",
       "6       distance_of_shot_f  0.040594\n",
       "7            game_season_f  0.049491\n",
       "2          remaining_min_f  0.064247\n",
       "0               location_x  0.067056\n",
       "1               location_y  0.069240\n",
       "9               shot_angle  0.073373\n",
       "11          match_event_id  0.075482\n",
       "13      shot_type_comb_enc  0.081612\n",
       "10           shot_distance  0.086396\n",
       "3          remaining_sec_f  0.089412\n",
       "8           date_of_game_f  0.095241\n",
       "16            match_id_enc  0.127719"
      ]
     },
     "execution_count": 185,
     "metadata": {},
     "output_type": "execute_result"
    }
   ],
   "source": [
    "importance.sort_values('imp')"
   ]
  },
  {
   "cell_type": "code",
   "execution_count": null,
   "metadata": {
    "collapsed": true
   },
   "outputs": [],
   "source": [
    "#base- 0.821\n",
    "# params - 0.849(n_estimators=100,max_depth=10,min_samples_leaf=50,random_state=seed)\n",
    "#(n_estimators=100,max_depth=10,min_samples_leaf=50,random_state=seed)"
   ]
  }
 ],
 "metadata": {
  "kernelspec": {
   "display_name": "Python 3",
   "language": "python",
   "name": "python3"
  },
  "language_info": {
   "codemirror_mode": {
    "name": "ipython",
    "version": 3
   },
   "file_extension": ".py",
   "mimetype": "text/x-python",
   "name": "python",
   "nbconvert_exporter": "python",
   "pygments_lexer": "ipython3",
   "version": "3.6.6"
  }
 },
 "nbformat": 4,
 "nbformat_minor": 2
}
